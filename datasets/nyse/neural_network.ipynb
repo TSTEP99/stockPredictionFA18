{
 "cells": [
  {
   "cell_type": "code",
   "execution_count": 65,
   "metadata": {},
   "outputs": [],
   "source": [
    "import pandas as pd;\n",
    "import numpy as np;\n",
    "from keras import models,layers;\n",
    "from sklearn import preprocessing\n",
    "\n",
    "df=pd.read_csv(\"GOOG.csv\");\n",
    "test=df[\"Date\"][0];\n",
    "years=np.empty(len(df[\"Date\"]),dtype=\"int\")\n",
    "months=np.empty(len(df[\"Date\"]),dtype=\"int\")\n",
    "days=np.empty(len(df[\"Date\"]),dtype=\"int\")\n",
    "for i in range(len(df[\"Date\"])):\n",
    "    array=df[\"Date\"][i].split(\"-\");\n",
    "    years[i]=array[0];\n",
    "    months[i]=array[1];\n",
    "    days[i]=array[2];\n",
    "df[\"year\"]=years;\n",
    "df[\"month\"]=months;\n",
    "df[\"day\"]=days;\n",
    "\n",
    "x=df[[\"year\",\"month\",\"day\"]];\n",
    "y=df[\"Close\"]\n",
    "x=np.array(x);\n",
    "y=np.array(y);\n",
    "min_max_scaler=preprocessing.MinMaxScaler();\n",
    "x=min_max_scaler.fit_transform(x);\n",
    "x=x[indices];\n",
    "y=y[indices];\n",
    "training_x=x[:round(len(x)*.90)];\n",
    "training_y=y[:round(len(y)*.90)];\n",
    "cv_x=x[round(len(x)*.90):round(len(x)*.95)];\n",
    "cv_y=y[round(len(y)*.90):round(len(x)*.95)];\n",
    "test_x=y[round(len(x)*.95):]\n",
    "test_y=y[round(len(y)*.95):]\n",
    "                               "
   ]
  },
  {
   "cell_type": "code",
   "execution_count": 68,
   "metadata": {
    "scrolled": false
   },
   "outputs": [
    {
     "name": "stdout",
     "output_type": "stream",
     "text": [
      "Train on 3082 samples, validate on 171 samples\n",
      "Epoch 1/42\n",
      "3082/3082 [==============================] - 6s 2ms/step - loss: 27945.9429 - mean_absolute_error: 119.2552 - val_loss: 17314.2536 - val_mean_absolute_error: 102.8670\n",
      "Epoch 2/42\n",
      "3082/3082 [==============================] - 6s 2ms/step - loss: 19764.9373 - mean_absolute_error: 106.4632 - val_loss: 19013.0027 - val_mean_absolute_error: 108.6323\n",
      "Epoch 3/42\n",
      "3082/3082 [==============================] - 6s 2ms/step - loss: 19650.4298 - mean_absolute_error: 106.1550 - val_loss: 18761.5254 - val_mean_absolute_error: 111.2520\n",
      "Epoch 4/42\n",
      "3082/3082 [==============================] - 5s 2ms/step - loss: 19645.6892 - mean_absolute_error: 106.5150 - val_loss: 14964.3674 - val_mean_absolute_error: 95.6917\n",
      "Epoch 5/42\n",
      "3082/3082 [==============================] - 6s 2ms/step - loss: 19609.9366 - mean_absolute_error: 106.2229 - val_loss: 14975.6125 - val_mean_absolute_error: 97.3800\n",
      "Epoch 6/42\n",
      "3082/3082 [==============================] - 5s 2ms/step - loss: 19298.3622 - mean_absolute_error: 105.1801 - val_loss: 14146.1373 - val_mean_absolute_error: 94.2133\n",
      "Epoch 7/42\n",
      "3082/3082 [==============================] - 5s 2ms/step - loss: 19473.7588 - mean_absolute_error: 105.5649 - val_loss: 16517.6174 - val_mean_absolute_error: 101.4992\n",
      "Epoch 8/42\n",
      "3082/3082 [==============================] - 5s 2ms/step - loss: 19296.7435 - mean_absolute_error: 105.6214 - val_loss: 14189.6751 - val_mean_absolute_error: 94.6001\n",
      "Epoch 9/42\n",
      "3082/3082 [==============================] - 5s 2ms/step - loss: 19090.5199 - mean_absolute_error: 104.1813 - val_loss: 18169.9920 - val_mean_absolute_error: 108.5324\n",
      "Epoch 10/42\n",
      "3082/3082 [==============================] - 5s 2ms/step - loss: 18903.6729 - mean_absolute_error: 103.4392 - val_loss: 22310.8855 - val_mean_absolute_error: 122.9935\n",
      "Epoch 11/42\n",
      "3082/3082 [==============================] - 5s 2ms/step - loss: 18648.8308 - mean_absolute_error: 102.1529 - val_loss: 13553.6240 - val_mean_absolute_error: 91.2210\n",
      "Epoch 12/42\n",
      "3082/3082 [==============================] - 5s 2ms/step - loss: 18488.9761 - mean_absolute_error: 102.2164 - val_loss: 13975.3169 - val_mean_absolute_error: 93.6764\n",
      "Epoch 13/42\n",
      "3082/3082 [==============================] - 6s 2ms/step - loss: 18497.6808 - mean_absolute_error: 101.8745 - val_loss: 13113.1612 - val_mean_absolute_error: 87.5318\n",
      "Epoch 14/42\n",
      "3082/3082 [==============================] - 5s 2ms/step - loss: 18280.6499 - mean_absolute_error: 99.8897 - val_loss: 13892.2484 - val_mean_absolute_error: 91.6113\n",
      "Epoch 15/42\n",
      "3082/3082 [==============================] - 5s 2ms/step - loss: 18035.6536 - mean_absolute_error: 99.0722 - val_loss: 15494.5573 - val_mean_absolute_error: 100.0171\n",
      "Epoch 16/42\n",
      "3082/3082 [==============================] - 6s 2ms/step - loss: 18034.2268 - mean_absolute_error: 99.5782 - val_loss: 13315.8172 - val_mean_absolute_error: 90.5111\n",
      "Epoch 17/42\n",
      "3082/3082 [==============================] - 6s 2ms/step - loss: 17920.6621 - mean_absolute_error: 98.4930 - val_loss: 13131.7848 - val_mean_absolute_error: 88.6615\n",
      "Epoch 18/42\n",
      "3082/3082 [==============================] - 7s 2ms/step - loss: 17896.4935 - mean_absolute_error: 98.3383 - val_loss: 14554.1756 - val_mean_absolute_error: 93.4046\n",
      "Epoch 19/42\n",
      "3082/3082 [==============================] - 8s 2ms/step - loss: 17687.0674 - mean_absolute_error: 97.4551 - val_loss: 13316.1037 - val_mean_absolute_error: 87.9984\n",
      "Epoch 20/42\n",
      "3082/3082 [==============================] - 6s 2ms/step - loss: 17747.2055 - mean_absolute_error: 97.5183 - val_loss: 13323.0762 - val_mean_absolute_error: 87.7918\n",
      "Epoch 21/42\n",
      "3082/3082 [==============================] - 6s 2ms/step - loss: 17727.5698 - mean_absolute_error: 97.1281 - val_loss: 13408.9945 - val_mean_absolute_error: 89.1304\n",
      "Epoch 22/42\n",
      "3082/3082 [==============================] - 6s 2ms/step - loss: 17600.2577 - mean_absolute_error: 97.1013 - val_loss: 13112.1860 - val_mean_absolute_error: 85.2737\n",
      "Epoch 23/42\n",
      "3082/3082 [==============================] - 6s 2ms/step - loss: 17525.9289 - mean_absolute_error: 96.5751 - val_loss: 12589.8403 - val_mean_absolute_error: 84.4773\n",
      "Epoch 24/42\n",
      "3082/3082 [==============================] - 6s 2ms/step - loss: 17508.3131 - mean_absolute_error: 95.9163 - val_loss: 12173.8493 - val_mean_absolute_error: 82.4187\n",
      "Epoch 25/42\n",
      "3082/3082 [==============================] - 6s 2ms/step - loss: 17452.4530 - mean_absolute_error: 95.9583 - val_loss: 12368.0481 - val_mean_absolute_error: 82.9976\n",
      "Epoch 26/42\n",
      "3082/3082 [==============================] - 5s 2ms/step - loss: 17533.8541 - mean_absolute_error: 95.2672 - val_loss: 12157.6974 - val_mean_absolute_error: 82.8544\n",
      "Epoch 27/42\n",
      "3082/3082 [==============================] - 6s 2ms/step - loss: 17327.8467 - mean_absolute_error: 95.3433 - val_loss: 12776.4364 - val_mean_absolute_error: 83.2052\n",
      "Epoch 28/42\n",
      "3082/3082 [==============================] - 6s 2ms/step - loss: 17208.5743 - mean_absolute_error: 93.9169 - val_loss: 12257.4479 - val_mean_absolute_error: 81.1898\n",
      "Epoch 29/42\n",
      "3082/3082 [==============================] - 6s 2ms/step - loss: 17138.2008 - mean_absolute_error: 94.1155 - val_loss: 12332.0819 - val_mean_absolute_error: 83.5102\n",
      "Epoch 30/42\n",
      "3082/3082 [==============================] - 6s 2ms/step - loss: 17167.8345 - mean_absolute_error: 93.8255 - val_loss: 13336.9491 - val_mean_absolute_error: 88.2503\n",
      "Epoch 31/42\n",
      "3082/3082 [==============================] - 5s 2ms/step - loss: 16989.6657 - mean_absolute_error: 92.9923 - val_loss: 11961.2095 - val_mean_absolute_error: 80.6457\n",
      "Epoch 32/42\n",
      "3082/3082 [==============================] - 5s 2ms/step - loss: 16805.8809 - mean_absolute_error: 92.3383 - val_loss: 12229.0552 - val_mean_absolute_error: 82.6959\n",
      "Epoch 33/42\n",
      "3082/3082 [==============================] - 6s 2ms/step - loss: 16818.1402 - mean_absolute_error: 91.9139 - val_loss: 19807.1170 - val_mean_absolute_error: 108.4016\n",
      "Epoch 34/42\n",
      "3082/3082 [==============================] - 6s 2ms/step - loss: 16709.0961 - mean_absolute_error: 92.3570 - val_loss: 13849.7518 - val_mean_absolute_error: 88.2067\n",
      "Epoch 35/42\n",
      "3082/3082 [==============================] - 6s 2ms/step - loss: 16678.9704 - mean_absolute_error: 91.7667 - val_loss: 11854.0516 - val_mean_absolute_error: 80.5130\n",
      "Epoch 36/42\n",
      "3082/3082 [==============================] - 6s 2ms/step - loss: 16689.4630 - mean_absolute_error: 91.9061 - val_loss: 11156.1811 - val_mean_absolute_error: 75.9565\n",
      "Epoch 37/42\n",
      "3082/3082 [==============================] - 5s 2ms/step - loss: 16583.0606 - mean_absolute_error: 90.7430 - val_loss: 12237.0553 - val_mean_absolute_error: 83.2361\n",
      "Epoch 38/42\n",
      "3082/3082 [==============================] - 6s 2ms/step - loss: 16383.1041 - mean_absolute_error: 90.0407 - val_loss: 14612.9653 - val_mean_absolute_error: 93.6617\n",
      "Epoch 39/42\n",
      "3082/3082 [==============================] - 6s 2ms/step - loss: 16390.3337 - mean_absolute_error: 90.1024 - val_loss: 10900.9400 - val_mean_absolute_error: 75.7869\n",
      "Epoch 40/42\n",
      "3082/3082 [==============================] - 5s 2ms/step - loss: 16446.5344 - mean_absolute_error: 90.3589 - val_loss: 14742.1582 - val_mean_absolute_error: 93.3515\n",
      "Epoch 41/42\n",
      "3082/3082 [==============================] - 6s 2ms/step - loss: 16288.0366 - mean_absolute_error: 89.9132 - val_loss: 12249.5913 - val_mean_absolute_error: 82.1219\n",
      "Epoch 42/42\n",
      "3082/3082 [==============================] - 6s 2ms/step - loss: 16264.2527 - mean_absolute_error: 89.9879 - val_loss: 11063.8189 - val_mean_absolute_error: 76.8748\n"
     ]
    }
   ],
   "source": [
    "network=models.Sequential();\n",
    "network.add(layers.Dense(160,activation=layers.LeakyReLU(alpha=0.3),input_shape=(3,)));\n",
    "network.add(layers.Dense(160,activation=layers.LeakyReLU(alpha=0.3)));\n",
    "network.add(layers.Dense(160,activation=layers.LeakyReLU(alpha=0.3)));\n",
    "network.add(layers.Dense(1));\n",
    "network.compile(optimizer=\"rmsprop\",loss=\"mse\",metrics=[\"mae\"]);\n",
    "history=network.fit(training_x,training_y,epochs=42,batch_size=1,validation_data=(cv_x,cv_y));"
   ]
  },
  {
   "cell_type": "code",
   "execution_count": 64,
   "metadata": {
    "scrolled": true
   },
   "outputs": [
    {
     "name": "stdout",
     "output_type": "stream",
     "text": [
      "{'val_loss': [14859.92908352304, 15106.784933535551, 14342.484984339764, 16441.864803780503, 16124.836885858436, 14765.248590560685, 15260.786247386395, 13366.658757728661, 16599.273575739073, 18495.837794942465, 19759.362280591886, 12798.082481050375, 13020.34009377092, 13517.360845289732, 12906.291802466265, 13614.041495434722, 14955.69851932191, 17037.799168206097, 21409.095778020725, 18847.53862899786, 15696.266330937893, 12753.263316712271, 12547.346513419472, 14455.567931670892, 13531.622044895825, 13531.27982330331, 12021.96239993168, 12080.275871085492, 14575.47229194676, 14596.461594804605, 12603.947590457961, 16064.680993192376, 12111.541574220908, 12546.83309967868, 13406.601087186595, 15454.658969663737, 13755.483825738842, 11990.082405842535, 15429.488264946212, 11845.230849214813, 12417.37881533183, 11756.160617555093, 11700.381097937188, 11868.69264318232, 14181.81553480188, 11168.31032354511], 'val_mean_absolute_error': [95.89649606448168, 97.84661169219436, 93.4370175188745, 102.20811266090438, 102.31031986705044, 95.61754318148073, 98.06067090843156, 89.93035264043083, 101.89562229803431, 109.77030748512313, 113.52460118343956, 86.15693191617552, 88.32715414839181, 87.68697299176489, 85.7734522680093, 89.91509581448739, 96.27688875254135, 102.60686086911207, 117.31219357496117, 111.20051556860494, 101.59913028471651, 83.65749782986111, 83.04978416398255, 91.04975092480754, 87.96168915151853, 88.19193058125457, 81.0072224042569, 81.12393166168391, 92.26124157821923, 91.0504081681458, 83.80695740103025, 96.08950752124451, 83.70740031638341, 83.40552551983393, 88.84852600097656, 97.79688838490269, 84.96896580924765, 78.81820928562455, 98.36119909453811, 76.56447302388867, 84.39617884228801, 79.8515673631813, 78.8148241991188, 81.7268396567183, 86.62786740308617, 76.61032305265728], 'loss': [23798.97884871692, 20743.46799574181, 20497.149520276253, 20023.18725042523, 20007.66160109949, 19728.378139292145, 19315.435684638116, 19285.350151320017, 19171.573706680967, 18850.96554006564, 18627.305060840266, 18394.47247140832, 18181.101588832043, 18101.350807482824, 17931.557878437063, 17931.727594419557, 18251.000545797782, 17830.755193682435, 18014.195489549486, 17752.806613547822, 17735.39723026091, 17555.128431949124, 17522.358344553337, 17333.820578031053, 17326.797177952703, 17388.425568716844, 17152.232441651922, 17087.527181529276, 17120.48604176881, 17117.108020200285, 17084.60715436249, 16915.10927924337, 16883.587664532668, 17001.56641184603, 16998.51076041557, 16741.101252858392, 16973.91552811305, 16827.302829452194, 16770.482412313955, 16640.395229318005, 16529.54144332563, 16458.517738987182, 16420.273591651105, 16394.93572759481, 16463.36790221796, 16242.001080237618], 'mean_absolute_error': [115.48744577683851, 108.83806279879897, 108.2895898812781, 106.95066696107581, 107.64096335943917, 106.06610033157814, 105.0038852679273, 104.74290562109232, 103.44369293202989, 102.50387974515664, 101.20463476608049, 101.06982672144885, 99.43178268472225, 98.69462546089267, 97.95804361767927, 98.34201119365358, 98.12083317473831, 96.86245682980626, 97.42814032216106, 96.04580256012181, 96.31820461117239, 95.93870366199847, 94.68123818805356, 94.89805036887653, 93.9298458557327, 94.12038551592966, 93.23236596653943, 92.85688136631138, 93.31735081954253, 93.2534356287437, 92.46480437024393, 91.90236994788525, 92.42145859522142, 92.17194974182644, 91.57634249915557, 91.48365884938076, 91.93206526690068, 91.23795969899331, 91.63565558322756, 91.02800323961618, 91.80041315027988, 90.55079036715122, 91.13578991577425, 91.02742333384322, 90.21918836713688, 90.48183502925053]}\n"
     ]
    }
   ],
   "source": [
    "print(network.predict());"
   ]
  },
  {
   "cell_type": "code",
   "execution_count": null,
   "metadata": {},
   "outputs": [],
   "source": []
  }
 ],
 "metadata": {
  "kernelspec": {
   "display_name": "Python 3",
   "language": "python",
   "name": "python3"
  },
  "language_info": {
   "codemirror_mode": {
    "name": "ipython",
    "version": 3
   },
   "file_extension": ".py",
   "mimetype": "text/x-python",
   "name": "python",
   "nbconvert_exporter": "python",
   "pygments_lexer": "ipython3",
   "version": "3.6.3"
  }
 },
 "nbformat": 4,
 "nbformat_minor": 2
}
